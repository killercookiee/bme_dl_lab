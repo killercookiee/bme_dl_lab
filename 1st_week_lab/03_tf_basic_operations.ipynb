{
  "cells": [
    {
      "cell_type": "markdown",
      "metadata": {
        "id": "7abxrxxRVIUG"
      },
      "source": [
        "\n",
        "**Copyright**\n",
        "\n",
        "This notebook was created as part of the \"Deep learning / VITMMA19\" class at\n",
        "Budapest University of Technology and Economics, Hungary,\n",
        "https://portal.vik.bme.hu/kepzes/targyak/VITMMA19\n",
        "\n",
        "TensorBoard vs TensorBoardX: https://tensorboardx.readthedocs.io/en/latest/tutorial.html\n",
        "\n",
        "Any re-use or publication of any part of the notebook is only allowed with the\n",
        " written consent of the authors.\n",
        "\n",
        "2024 (c) Mohammed Salah Al-Radhi, Bálint Gyires-Tóth\n",
        "\n"
      ]
    },
    {
      "cell_type": "markdown",
      "metadata": {
        "id": "9_OWxd3CS9ny"
      },
      "source": [
        "**Check TensorFlow Version**\n",
        "\n",
        "Ensure TensorFlow is installed and check its version with the following code:"
      ]
    },
    {
      "cell_type": "code",
      "execution_count": 1,
      "metadata": {
        "colab": {
          "base_uri": "https://localhost:8080/"
        },
        "id": "ypFm84cETARu",
        "outputId": "20bfa8dc-27f2-4569-e058-3026d5e9d385"
      },
      "outputs": [
        {
          "name": "stdout",
          "output_type": "stream",
          "text": [
            "2.17.0\n"
          ]
        }
      ],
      "source": [
        "import tensorflow as tf\n",
        "print(tf.__version__)\n"
      ]
    },
    {
      "cell_type": "markdown",
      "metadata": {
        "id": "OQO3XAGaTQYz"
      },
      "source": [
        "You should see the TensorFlow version printed. TensorFlow 2.x is what we will be using."
      ]
    },
    {
      "cell_type": "markdown",
      "metadata": {
        "id": "h1QHelRSTTrp"
      },
      "source": [
        "**Understanding Tensors in TensorFlow**\n",
        "\n",
        "Tensors are the primary data structure in TensorFlow. They are essentially multi-dimensional arrays."
      ]
    },
    {
      "cell_type": "markdown",
      "metadata": {
        "id": "R0UBh2w5TdEy"
      },
      "source": [
        "**1- Creating Tensors:**"
      ]
    },
    {
      "cell_type": "code",
      "execution_count": 2,
      "metadata": {
        "colab": {
          "base_uri": "https://localhost:8080/"
        },
        "id": "OhgGsCIATGQu",
        "outputId": "096bec42-9d38-4f9e-90a9-0d87dd9d74f3"
      },
      "outputs": [
        {
          "name": "stdout",
          "output_type": "stream",
          "text": [
            "Scalar: tf.Tensor(7, shape=(), dtype=int32)\n",
            "Vector: tf.Tensor([1. 2. 3.], shape=(3,), dtype=float32)\n",
            "Matrix: tf.Tensor(\n",
            "[[1 2]\n",
            " [3 4]], shape=(2, 2), dtype=int32)\n",
            "3D Tensor: tf.Tensor(\n",
            "[[[1 2]\n",
            "  [3 4]]\n",
            "\n",
            " [[5 6]\n",
            "  [7 8]]], shape=(2, 2, 2), dtype=int32)\n"
          ]
        }
      ],
      "source": [
        "# Scalar (rank-0 tensor)\n",
        "scalar = tf.constant(7)\n",
        "print(\"Scalar:\", scalar)\n",
        "\n",
        "# Vector (rank-1 tensor)\n",
        "vector = tf.constant([1.0, 2.0, 3.0])\n",
        "print(\"Vector:\", vector)\n",
        "\n",
        "# Matrix (rank-2 tensor)\n",
        "matrix = tf.constant([[1, 2], [3, 4]])\n",
        "print(\"Matrix:\", matrix)\n",
        "\n",
        "# 3D Tensor (rank-3 tensor)\n",
        "tensor_3d = tf.constant([[[1, 2], [3, 4]], [[5, 6], [7, 8]]])\n",
        "print(\"3D Tensor:\", tensor_3d)\n"
      ]
    },
    {
      "cell_type": "markdown",
      "metadata": {
        "id": "1q3SSXB9Tg1K"
      },
      "source": [
        "**2- Tensor Properties:**"
      ]
    },
    {
      "cell_type": "code",
      "execution_count": 3,
      "metadata": {
        "colab": {
          "base_uri": "https://localhost:8080/"
        },
        "id": "iuQoyPDKTX7n",
        "outputId": "50e3c156-509b-4bd4-a2ef-6fe2f3d1ca78"
      },
      "outputs": [
        {
          "name": "stdout",
          "output_type": "stream",
          "text": [
            "Shape of matrix: (2, 2)\n",
            "Data type of matrix: <dtype: 'int32'>\n"
          ]
        }
      ],
      "source": [
        "print(\"Shape of matrix:\", matrix.shape)\n",
        "print(\"Data type of matrix:\", matrix.dtype)\n"
      ]
    },
    {
      "cell_type": "markdown",
      "metadata": {
        "id": "4AxFlJuaTmd5"
      },
      "source": [
        "**3- Basic TensorFlow Operations**"
      ]
    },
    {
      "cell_type": "code",
      "execution_count": 5,
      "metadata": {
        "colab": {
          "base_uri": "https://localhost:8080/"
        },
        "id": "2JasMuBXTit3",
        "outputId": "03cd190e-3ceb-4d1e-9922-3ab510afe73c"
      },
      "outputs": [
        {
          "name": "stdout",
          "output_type": "stream",
          "text": [
            "Element-wise addition: tf.Tensor([5 7 9], shape=(3,), dtype=int32)\n",
            "Element-wise multiplication: tf.Tensor([ 4 10 18], shape=(3,), dtype=int32)\n"
          ]
        }
      ],
      "source": [
        "# Element-wise addition\n",
        "a = tf.constant([1, 2, 3])\n",
        "b = tf.constant([4, 5, 6])\n",
        "c = tf.add(a, b)\n",
        "print(\"Element-wise addition:\", c)\n",
        "\n",
        "# Element-wise multiplication\n",
        "d = tf.multiply(a, b)\n",
        "print(\"Element-wise multiplication:\", d)\n"
      ]
    },
    {
      "cell_type": "markdown",
      "metadata": {
        "id": "P7e9qw2HTwcl"
      },
      "source": [
        "**4- Matrix Operations:**"
      ]
    },
    {
      "cell_type": "code",
      "execution_count": 6,
      "metadata": {
        "colab": {
          "base_uri": "https://localhost:8080/"
        },
        "id": "81KYNthITkjW",
        "outputId": "b51c89a6-27f3-4740-febc-cb787e30e48e"
      },
      "outputs": [
        {
          "name": "stdout",
          "output_type": "stream",
          "text": [
            "Matrix multiplication result:\n",
            " tf.Tensor(\n",
            "[[19 22]\n",
            " [43 50]], shape=(2, 2), dtype=int32)\n"
          ]
        }
      ],
      "source": [
        "# Matrix multiplication\n",
        "matrix1 = tf.constant([[1, 2], [3, 4]])\n",
        "matrix2 = tf.constant([[5, 6], [7, 8]])\n",
        "product = tf.matmul(matrix1, matrix2)\n",
        "print(\"Matrix multiplication result:\\n\", product)\n"
      ]
    },
    {
      "cell_type": "markdown",
      "metadata": {
        "id": "g5d5RjTTT2Rd"
      },
      "source": [
        "**5- Reshaping Tensors:**"
      ]
    },
    {
      "cell_type": "code",
      "execution_count": 7,
      "metadata": {
        "colab": {
          "base_uri": "https://localhost:8080/"
        },
        "id": "RTlL88YETzb2",
        "outputId": "dfaee1b7-f930-4325-b478-74709b4c01fd"
      },
      "outputs": [
        {
          "name": "stdout",
          "output_type": "stream",
          "text": [
            "Original Tensor:\n",
            " tf.Tensor(\n",
            "[[1 2 3]\n",
            " [4 5 6]], shape=(2, 3), dtype=int32)\n",
            "Reshaped Tensor:\n",
            " tf.Tensor(\n",
            "[[1 2]\n",
            " [3 4]\n",
            " [5 6]], shape=(3, 2), dtype=int32)\n"
          ]
        }
      ],
      "source": [
        "# Reshaping a tensor\n",
        "tensor = tf.constant([[1, 2, 3], [4, 5, 6]])\n",
        "reshaped_tensor = tf.reshape(tensor, [3, 2])\n",
        "print(\"Original Tensor:\\n\", tensor)\n",
        "print(\"Reshaped Tensor:\\n\", reshaped_tensor)\n"
      ]
    },
    {
      "cell_type": "markdown",
      "metadata": {
        "id": "4igU71mjT7An"
      },
      "source": [
        "**6- Slicing Tensors:**"
      ]
    },
    {
      "cell_type": "code",
      "execution_count": 8,
      "metadata": {
        "colab": {
          "base_uri": "https://localhost:8080/"
        },
        "id": "qDfcYvdbT4vN",
        "outputId": "2de56d54-621e-4422-d0ef-9ce6eadffa84"
      },
      "outputs": [
        {
          "name": "stdout",
          "output_type": "stream",
          "text": [
            "Original Tensor:\n",
            " tf.Tensor(\n",
            "[[1 2 3]\n",
            " [4 5 6]\n",
            " [7 8 9]], shape=(3, 3), dtype=int32)\n",
            "Sliced Tensor:\n",
            " tf.Tensor(\n",
            "[[2 3]\n",
            " [5 6]\n",
            " [8 9]], shape=(3, 2), dtype=int32)\n"
          ]
        }
      ],
      "source": [
        "# Slicing a tensor\n",
        "tensor = tf.constant([[1, 2, 3], [4, 5, 6], [7, 8, 9]])\n",
        "sliced_tensor = tensor[:, 1:]\n",
        "print(\"Original Tensor:\\n\", tensor)\n",
        "print(\"Sliced Tensor:\\n\", sliced_tensor)\n"
      ]
    },
    {
      "cell_type": "markdown",
      "metadata": {
        "id": "siihRCr8UA5D"
      },
      "source": [
        "**Working with Variables**\n",
        "\n",
        "Variables in TensorFlow are used to store mutable data."
      ]
    },
    {
      "cell_type": "markdown",
      "metadata": {
        "id": "DHigOr0JUGvi"
      },
      "source": [
        "**1- Creating and Using Variables:**"
      ]
    },
    {
      "cell_type": "code",
      "execution_count": 9,
      "metadata": {
        "colab": {
          "base_uri": "https://localhost:8080/"
        },
        "id": "9MnYDXmIT9IH",
        "outputId": "fb3ce2e1-2da6-403e-828c-60a0025355ad"
      },
      "outputs": [
        {
          "name": "stdout",
          "output_type": "stream",
          "text": [
            "Initial value of variable: [1. 2. 3.]\n",
            "New value of variable: [4. 5. 6.]\n",
            "After addition: [5. 6. 7.]\n"
          ]
        }
      ],
      "source": [
        "# Create a variable\n",
        "var = tf.Variable([1.0, 2.0, 3.0])\n",
        "print(\"Initial value of variable:\", var.numpy())\n",
        "\n",
        "# Assign a new value to the variable\n",
        "var.assign([4.0, 5.0, 6.0])\n",
        "print(\"New value of variable:\", var.numpy())\n",
        "\n",
        "# Perform in-place operations\n",
        "var.assign_add([1.0, 1.0, 1.0])\n",
        "print(\"After addition:\", var.numpy())\n"
      ]
    },
    {
      "cell_type": "markdown",
      "metadata": {
        "id": "CsEQXu8qUhTV"
      },
      "source": [
        "**Automatic Differentiation with TensorFlow**"
      ]
    },
    {
      "cell_type": "markdown",
      "metadata": {
        "id": "jcawL3MIUmYc"
      },
      "source": [
        "TensorFlow’s `tf.GradientTape` allows for automatic differentiation, which is essential for optimization tasks."
      ]
    },
    {
      "cell_type": "markdown",
      "metadata": {
        "id": "zHadpcqHUvmi"
      },
      "source": [
        "**Calculating Gradients:**"
      ]
    },
    {
      "cell_type": "code",
      "execution_count": 10,
      "metadata": {
        "colab": {
          "base_uri": "https://localhost:8080/"
        },
        "id": "BbaV_xEbUc8p",
        "outputId": "58c4daef-c6ff-41c9-bb29-c820df6a1320"
      },
      "outputs": [
        {
          "name": "stdout",
          "output_type": "stream",
          "text": [
            "Gradient of y = x^2 with respect to x: 6.0\n"
          ]
        }
      ],
      "source": [
        "# Define a simple function: y = x^2\n",
        "x = tf.Variable(3.0)\n",
        "\n",
        "with tf.GradientTape() as tape:\n",
        "    y = x**2\n",
        "\n",
        "# Compute the gradient of y with respect to x\n",
        "grad = tape.gradient(y, x)\n",
        "print(\"Gradient of y = x^2 with respect to x:\", grad.numpy())\n"
      ]
    },
    {
      "cell_type": "code",
      "execution_count": null,
      "metadata": {
        "id": "XiBqWHqhUyHO"
      },
      "outputs": [],
      "source": []
    }
  ],
  "metadata": {
    "colab": {
      "provenance": []
    },
    "kernelspec": {
      "display_name": "Python 3",
      "name": "python3"
    },
    "language_info": {
      "codemirror_mode": {
        "name": "ipython",
        "version": 3
      },
      "file_extension": ".py",
      "mimetype": "text/x-python",
      "name": "python",
      "nbconvert_exporter": "python",
      "pygments_lexer": "ipython3",
      "version": "3.11.5"
    }
  },
  "nbformat": 4,
  "nbformat_minor": 0
}
